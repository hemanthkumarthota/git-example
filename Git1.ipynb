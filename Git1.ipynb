{
 "cells": [
  {
   "cell_type": "code",
   "execution_count": 2,
   "id": "a8a96221-97c9-427e-9664-a4f41d3d863a",
   "metadata": {},
   "outputs": [
    {
     "name": "stdout",
     "output_type": "stream",
     "text": [
      "Construct executed and Hemanth Method is Created\n",
      "Hello, Hemanth\n",
      "Hemanth\n",
      "The name is Hemanth and age is 25\n",
      "The name is Hemanth\n",
      "The name is Hemanth and age is 25\n",
      "The name is Hemanth\n",
      "None\n"
     ]
    }
   ],
   "source": [
    "class Human:\n",
    "    def __init__ (self, name, age):\n",
    "        self.name = name\n",
    "        self.age = age\n",
    "        print(\"Construct executed and\",self.name,\"Method is Created\")\n",
    "\n",
    "    def greet (self):\n",
    "        print(f\"The name is {self.name} and age is {self.age}\")\n",
    "\n",
    "class Employee(Human):\n",
    "    def __init__(self, name, age, role):\n",
    "        super().__init__(name,age)\n",
    "        self.role = role\n",
    "        print(f\"Hello, {self.name}\")\n",
    "\n",
    "    def greet(self):\n",
    "        super().greet()\n",
    "        print(f\"The name is {self.name}\")\n",
    "        \n",
    "hemanth = Employee(\"Hemanth\",25,\"developer\")\n",
    "hemanth.name\n",
    "print(hemanth.name)\n",
    "hemanth.greet()\n",
    "print(hemanth.greet())"
   ]
  }
 ],
 "metadata": {
  "kernelspec": {
   "display_name": "Python [conda env:base] *",
   "language": "python",
   "name": "conda-base-py"
  },
  "language_info": {
   "codemirror_mode": {
    "name": "ipython",
    "version": 3
   },
   "file_extension": ".py",
   "mimetype": "text/x-python",
   "name": "python",
   "nbconvert_exporter": "python",
   "pygments_lexer": "ipython3",
   "version": "3.13.5"
  }
 },
 "nbformat": 4,
 "nbformat_minor": 5
}
